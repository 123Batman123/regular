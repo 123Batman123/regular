{
 "cells": [
  {
   "attachments": {},
   "cell_type": "markdown",
   "metadata": {},
   "source": [
    "# **Домашнее задание к лекции 5.«Regular expressions»**"
   ]
  },
  {
   "cell_type": "code",
   "execution_count": 1,
   "metadata": {},
   "outputs": [],
   "source": [
    "import re\n",
    "import csv\n",
    "\n",
    "with open(\"phonebook_raw.csv\", encoding='utf-8') as f:\n",
    "    rows = csv.reader(f, delimiter=\",\")\n",
    "    contacts_list = list(rows)"
   ]
  },
  {
   "cell_type": "code",
   "execution_count": 2,
   "metadata": {},
   "outputs": [],
   "source": [
    "    \n",
    "dict_info = {}\n",
    "list_cont = []\n",
    "for list in contacts_list:\n",
    "    el_0_spl = list[0].split()\n",
    "    el_1_spl = list[1].split()\n",
    "    if len(el_0_spl) == 3:\n",
    "        list[0], list[1], list[2] = el_0_spl[0], el_0_spl[1], el_0_spl[2]\n",
    "    if len(el_0_spl) == 2:\n",
    "        list[0], list[1] = el_0_spl[0], el_0_spl[1]\n",
    "    if len(el_1_spl) == 2:\n",
    "        list[1], list[2] = el_1_spl[0], el_1_spl[1]\n",
    "\n",
    "    list_0_1 = list[0] + ' ' + list[1]\n",
    "    if list_0_1 not in dict_info.keys():\n",
    "        dict_info[list_0_1] = list[2:]\n",
    "    else:\n",
    "        for j, el in enumerate(dict_info[list_0_1]):\n",
    "            if el == \"\" and list[2:][j] != '':\n",
    "                dict_info[list_0_1][j] = list[2:][j]\n",
    "                \n",
    "for key, v in dict_info.items():\n",
    "    list_k_v = key.split() + v\n",
    "    li = []\n",
    "    for el in list_k_v:\n",
    "        pattern = r\"(\\+7|7|8)?\\s*\\(*(\\d{3})\\)*[\\s|-]*(\\d+)[\\s|-]*(\\d{2})[\\s|-]*(\\d{2})\\s*\\(*([а-яА-Я]*\\.*)\\s*(\\d{0,4})\\)*\"\n",
    "        result = re.sub(pattern, r'+7(\\2)\\3-\\4-\\5 \\6\\7', el)\n",
    "        li.append(result)\n",
    "    list_cont.append(li)"
   ]
  },
  {
   "cell_type": "code",
   "execution_count": 3,
   "metadata": {},
   "outputs": [],
   "source": [
    "with open(\"phonebook.csv\", \"w\", encoding='utf-8') as f:\n",
    "  datawriter = csv.writer(f, delimiter=',')\n",
    "  datawriter.writerows(list_cont)"
   ]
  }
 ],
 "metadata": {
  "kernelspec": {
   "display_name": "Python 3",
   "language": "python",
   "name": "python3"
  },
  "language_info": {
   "codemirror_mode": {
    "name": "ipython",
    "version": 3
   },
   "file_extension": ".py",
   "mimetype": "text/x-python",
   "name": "python",
   "nbconvert_exporter": "python",
   "pygments_lexer": "ipython3",
   "version": "3.10.9"
  },
  "orig_nbformat": 4,
  "vscode": {
   "interpreter": {
    "hash": "7b1f2b33e866b0bf2409397e5f58ba9cdf170d3b7f64c8f359c79998e2f88ad4"
   }
  }
 },
 "nbformat": 4,
 "nbformat_minor": 2
}
